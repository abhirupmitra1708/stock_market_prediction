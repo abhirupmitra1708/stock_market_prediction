{
  "cells": [
    {
      "cell_type": "markdown",
      "metadata": {
        "id": "view-in-github",
        "colab_type": "text"
      },
      "source": [
        "<a href=\"https://colab.research.google.com/github/abhirupmitra1708/stock_market_prediction/blob/main/.ipynb_checkpoints/Live_Stock_Prediction-checkpoint.ipynb\" target=\"_parent\"><img src=\"https://colab.research.google.com/assets/colab-badge.svg\" alt=\"Open In Colab\"/></a>"
      ]
    },
    {
      "cell_type": "code",
      "execution_count": null,
      "id": "f91eb4e9",
      "metadata": {
        "id": "f91eb4e9"
      },
      "outputs": [],
      "source": [
        "#yahoo finance as data source\n",
        "#pip install yfinance\n",
        "import yfinance as yf"
      ]
    },
    {
      "cell_type": "code",
      "execution_count": null,
      "id": "ee00f18c",
      "metadata": {
        "id": "ee00f18c"
      },
      "outputs": [],
      "source": [
        "#See the yahoo finance ticker for your stock symbol\n",
        "stock_symbol = 'GAIL.NS'"
      ]
    },
    {
      "cell_type": "code",
      "execution_count": null,
      "id": "d365868a",
      "metadata": {
        "id": "d365868a",
        "outputId": "d4ef5703-8931-45c0-de4c-da5203e68ac7"
      },
      "outputs": [
        {
          "name": "stdout",
          "output_type": "stream",
          "text": [
            "[*********************100%***********************]  1 of 1 completed\n"
          ]
        }
      ],
      "source": [
        "#last 5 years data with interval of 1 day\n",
        "data = yf.download(tickers=stock_symbol,period='5y',interval='1d')"
      ]
    },
    {
      "cell_type": "code",
      "execution_count": null,
      "id": "9f82e205",
      "metadata": {
        "id": "9f82e205",
        "outputId": "708fe2dc-4e05-4e42-a4ad-49f79362c6e3"
      },
      "outputs": [
        {
          "data": {
            "text/plain": [
              "pandas.core.frame.DataFrame"
            ]
          },
          "execution_count": 3,
          "metadata": {},
          "output_type": "execute_result"
        }
      ],
      "source": [
        "type(data)"
      ]
    },
    {
      "cell_type": "code",
      "execution_count": null,
      "id": "dbbe3e6b",
      "metadata": {
        "id": "dbbe3e6b",
        "outputId": "fe61b788-f160-4dd3-8db8-6f99a9d5e93c"
      },
      "outputs": [
        {
          "data": {
            "text/html": [
              "<div>\n",
              "<style scoped>\n",
              "    .dataframe tbody tr th:only-of-type {\n",
              "        vertical-align: middle;\n",
              "    }\n",
              "\n",
              "    .dataframe tbody tr th {\n",
              "        vertical-align: top;\n",
              "    }\n",
              "\n",
              "    .dataframe thead th {\n",
              "        text-align: right;\n",
              "    }\n",
              "</style>\n",
              "<table border=\"1\" class=\"dataframe\">\n",
              "  <thead>\n",
              "    <tr style=\"text-align: right;\">\n",
              "      <th></th>\n",
              "      <th>Open</th>\n",
              "      <th>High</th>\n",
              "      <th>Low</th>\n",
              "      <th>Close</th>\n",
              "      <th>Adj Close</th>\n",
              "      <th>Volume</th>\n",
              "    </tr>\n",
              "    <tr>\n",
              "      <th>Date</th>\n",
              "      <th></th>\n",
              "      <th></th>\n",
              "      <th></th>\n",
              "      <th></th>\n",
              "      <th></th>\n",
              "      <th></th>\n",
              "    </tr>\n",
              "  </thead>\n",
              "  <tbody>\n",
              "    <tr>\n",
              "      <th>2016-06-27</th>\n",
              "      <td>105.989113</td>\n",
              "      <td>107.648491</td>\n",
              "      <td>105.215675</td>\n",
              "      <td>106.860992</td>\n",
              "      <td>90.179657</td>\n",
              "      <td>3554636</td>\n",
              "    </tr>\n",
              "    <tr>\n",
              "      <th>2016-06-28</th>\n",
              "      <td>106.973488</td>\n",
              "      <td>107.634430</td>\n",
              "      <td>105.567238</td>\n",
              "      <td>106.003181</td>\n",
              "      <td>89.455750</td>\n",
              "      <td>3153665</td>\n",
              "    </tr>\n",
              "    <tr>\n",
              "      <th>2016-06-29</th>\n",
              "      <td>105.750053</td>\n",
              "      <td>108.829742</td>\n",
              "      <td>105.342239</td>\n",
              "      <td>108.351616</td>\n",
              "      <td>91.437592</td>\n",
              "      <td>4824690</td>\n",
              "    </tr>\n",
              "    <tr>\n",
              "      <th>2016-06-30</th>\n",
              "      <td>109.476616</td>\n",
              "      <td>109.701614</td>\n",
              "      <td>107.381302</td>\n",
              "      <td>108.323494</td>\n",
              "      <td>91.413857</td>\n",
              "      <td>7515022</td>\n",
              "    </tr>\n",
              "    <tr>\n",
              "      <th>2016-07-01</th>\n",
              "      <td>109.125053</td>\n",
              "      <td>111.614120</td>\n",
              "      <td>108.562553</td>\n",
              "      <td>111.192245</td>\n",
              "      <td>93.834793</td>\n",
              "      <td>8320938</td>\n",
              "    </tr>\n",
              "  </tbody>\n",
              "</table>\n",
              "</div>"
            ],
            "text/plain": [
              "                  Open        High         Low       Close  Adj Close   Volume\n",
              "Date                                                                          \n",
              "2016-06-27  105.989113  107.648491  105.215675  106.860992  90.179657  3554636\n",
              "2016-06-28  106.973488  107.634430  105.567238  106.003181  89.455750  3153665\n",
              "2016-06-29  105.750053  108.829742  105.342239  108.351616  91.437592  4824690\n",
              "2016-06-30  109.476616  109.701614  107.381302  108.323494  91.413857  7515022\n",
              "2016-07-01  109.125053  111.614120  108.562553  111.192245  93.834793  8320938"
            ]
          },
          "execution_count": 4,
          "metadata": {},
          "output_type": "execute_result"
        }
      ],
      "source": [
        "data.head()"
      ]
    },
    {
      "cell_type": "code",
      "execution_count": null,
      "id": "9d445949",
      "metadata": {
        "id": "9d445949",
        "outputId": "4b508e26-e578-4bbc-9149-740f89ebc55c"
      },
      "outputs": [
        {
          "data": {
            "text/plain": [
              "1232"
            ]
          },
          "execution_count": 5,
          "metadata": {},
          "output_type": "execute_result"
        }
      ],
      "source": [
        "len(data)"
      ]
    },
    {
      "cell_type": "code",
      "execution_count": null,
      "id": "bf283ad5",
      "metadata": {
        "id": "bf283ad5",
        "outputId": "b07f291e-5022-454a-e7e8-b9206ce8f320"
      },
      "outputs": [
        {
          "data": {
            "text/html": [
              "<div>\n",
              "<style scoped>\n",
              "    .dataframe tbody tr th:only-of-type {\n",
              "        vertical-align: middle;\n",
              "    }\n",
              "\n",
              "    .dataframe tbody tr th {\n",
              "        vertical-align: top;\n",
              "    }\n",
              "\n",
              "    .dataframe thead th {\n",
              "        text-align: right;\n",
              "    }\n",
              "</style>\n",
              "<table border=\"1\" class=\"dataframe\">\n",
              "  <thead>\n",
              "    <tr style=\"text-align: right;\">\n",
              "      <th></th>\n",
              "      <th>Open</th>\n",
              "      <th>High</th>\n",
              "      <th>Low</th>\n",
              "      <th>Close</th>\n",
              "      <th>Adj Close</th>\n",
              "      <th>Volume</th>\n",
              "    </tr>\n",
              "    <tr>\n",
              "      <th>Date</th>\n",
              "      <th></th>\n",
              "      <th></th>\n",
              "      <th></th>\n",
              "      <th></th>\n",
              "      <th></th>\n",
              "      <th></th>\n",
              "    </tr>\n",
              "  </thead>\n",
              "  <tbody>\n",
              "    <tr>\n",
              "      <th>2021-06-21</th>\n",
              "      <td>153.000000</td>\n",
              "      <td>156.149994</td>\n",
              "      <td>151.250000</td>\n",
              "      <td>155.250000</td>\n",
              "      <td>155.250000</td>\n",
              "      <td>13488792</td>\n",
              "    </tr>\n",
              "    <tr>\n",
              "      <th>2021-06-22</th>\n",
              "      <td>157.000000</td>\n",
              "      <td>158.699997</td>\n",
              "      <td>154.899994</td>\n",
              "      <td>155.300003</td>\n",
              "      <td>155.300003</td>\n",
              "      <td>7862363</td>\n",
              "    </tr>\n",
              "    <tr>\n",
              "      <th>2021-06-23</th>\n",
              "      <td>157.000000</td>\n",
              "      <td>157.000000</td>\n",
              "      <td>152.699997</td>\n",
              "      <td>153.350006</td>\n",
              "      <td>153.350006</td>\n",
              "      <td>8190583</td>\n",
              "    </tr>\n",
              "    <tr>\n",
              "      <th>2021-06-24</th>\n",
              "      <td>153.899994</td>\n",
              "      <td>154.949997</td>\n",
              "      <td>151.750000</td>\n",
              "      <td>152.250000</td>\n",
              "      <td>152.250000</td>\n",
              "      <td>8171227</td>\n",
              "    </tr>\n",
              "    <tr>\n",
              "      <th>2021-06-25</th>\n",
              "      <td>153.000000</td>\n",
              "      <td>154.699997</td>\n",
              "      <td>152.250000</td>\n",
              "      <td>153.100006</td>\n",
              "      <td>153.100006</td>\n",
              "      <td>6551074</td>\n",
              "    </tr>\n",
              "  </tbody>\n",
              "</table>\n",
              "</div>"
            ],
            "text/plain": [
              "                  Open        High         Low       Close   Adj Close  \\\n",
              "Date                                                                     \n",
              "2021-06-21  153.000000  156.149994  151.250000  155.250000  155.250000   \n",
              "2021-06-22  157.000000  158.699997  154.899994  155.300003  155.300003   \n",
              "2021-06-23  157.000000  157.000000  152.699997  153.350006  153.350006   \n",
              "2021-06-24  153.899994  154.949997  151.750000  152.250000  152.250000   \n",
              "2021-06-25  153.000000  154.699997  152.250000  153.100006  153.100006   \n",
              "\n",
              "              Volume  \n",
              "Date                  \n",
              "2021-06-21  13488792  \n",
              "2021-06-22   7862363  \n",
              "2021-06-23   8190583  \n",
              "2021-06-24   8171227  \n",
              "2021-06-25   6551074  "
            ]
          },
          "execution_count": 6,
          "metadata": {},
          "output_type": "execute_result"
        }
      ],
      "source": [
        "data.tail()"
      ]
    },
    {
      "cell_type": "code",
      "execution_count": null,
      "id": "6292e20a",
      "metadata": {
        "id": "6292e20a"
      },
      "outputs": [],
      "source": [
        "opn = data[['Open']]"
      ]
    },
    {
      "cell_type": "code",
      "execution_count": null,
      "id": "21e132d8",
      "metadata": {
        "id": "21e132d8",
        "outputId": "a07165d5-61cd-4f8a-df2c-9ebedd482352"
      },
      "outputs": [
        {
          "data": {
            "text/plain": [
              "<AxesSubplot:xlabel='Date'>"
            ]
          },
          "execution_count": 10,
          "metadata": {},
          "output_type": "execute_result"
        },
        {
          "data": {
            "image/png": "[encoded data removed]",
            "text/plain": [
              "<Figure size 432x288 with 1 Axes>"
            ]
          },
          "metadata": {
            "needs_background": "light"
          },
          "output_type": "display_data"
        }
      ],
      "source": [
        "opn.plot()"
      ]
    },
    {
      "cell_type": "code",
      "execution_count": null,
      "id": "c5194440",
      "metadata": {
        "id": "c5194440"
      },
      "outputs": [],
      "source": [
        "import matplotlib.pyplot as plt"
      ]
    },
    {
      "cell_type": "code",
      "execution_count": null,
      "id": "8038cb6a",
      "metadata": {
        "id": "8038cb6a"
      },
      "outputs": [],
      "source": [
        "ds = opn.values"
      ]
    },
    {
      "cell_type": "code",
      "execution_count": null,
      "id": "69b08672",
      "metadata": {
        "id": "69b08672",
        "outputId": "22a84922-bc04-410e-af69-924ba0c8ff76"
      },
      "outputs": [
        {
          "data": {
            "text/plain": [
              "array([[105.98911285],\n",
              "       [106.97348785],\n",
              "       [105.75005341],\n",
              "       ...,\n",
              "       [157.        ],\n",
              "       [153.8999939 ],\n",
              "       [153.        ]])"
            ]
          },
          "execution_count": 13,
          "metadata": {},
          "output_type": "execute_result"
        }
      ],
      "source": [
        "ds"
      ]
    },
    {
      "cell_type": "code",
      "execution_count": null,
      "id": "af022e3c",
      "metadata": {
        "id": "af022e3c",
        "outputId": "3509cb7d-a4f8-46b7-e19e-774b128b80a0"
      },
      "outputs": [
        {
          "data": {
            "text/plain": [
              "[<matplotlib.lines.Line2D at 0x7fcbb40731d0>]"
            ]
          },
          "execution_count": 14,
          "metadata": {},
          "output_type": "execute_result"
        },
        {
          "data": {
            "image/png": "[encoded data removed]",
            "text/plain": [
              "<Figure size 432x288 with 1 Axes>"
            ]
          },
          "metadata": {
            "needs_background": "light"
          },
          "output_type": "display_data"
        }
      ],
      "source": [
        "plt.plot(ds)"
      ]
    },
    {
      "cell_type": "code",
      "execution_count": null,
      "id": "0e73b789",
      "metadata": {
        "id": "0e73b789"
      },
      "outputs": [],
      "source": [
        "import numpy as np"
      ]
    },
    {
      "cell_type": "code",
      "execution_count": null,
      "id": "0e6c1c22",
      "metadata": {
        "id": "0e6c1c22"
      },
      "outputs": [],
      "source": [
        "from sklearn.preprocessing import MinMaxScaler"
      ]
    },
    {
      "cell_type": "code",
      "execution_count": null,
      "id": "cf6a3e1b",
      "metadata": {
        "id": "cf6a3e1b"
      },
      "outputs": [],
      "source": [
        "#Using MinMaxScaler for normalizing data between 0 & 1\n",
        "normalizer = MinMaxScaler(feature_range=(0,1))\n",
        "ds_scaled = normalizer.fit_transform(np.array(ds).reshape(-1,1))"
      ]
    },
    {
      "cell_type": "code",
      "execution_count": null,
      "id": "7dbea1d5",
      "metadata": {
        "id": "7dbea1d5",
        "outputId": "2528f80d-77e3-419f-a75b-a692480638ad"
      },
      "outputs": [
        {
          "data": {
            "text/plain": [
              "(1232, 1232)"
            ]
          },
          "execution_count": 19,
          "metadata": {},
          "output_type": "execute_result"
        }
      ],
      "source": [
        "len(ds_scaled), len(ds)"
      ]
    },
    {
      "cell_type": "code",
      "execution_count": null,
      "id": "a20c5654",
      "metadata": {
        "id": "a20c5654"
      },
      "outputs": [],
      "source": [
        "#Defining test and train data sizes\n",
        "train_size = int(len(ds_scaled)*0.70)\n",
        "test_size = len(ds_scaled) - train_size"
      ]
    },
    {
      "cell_type": "code",
      "execution_count": null,
      "id": "b964aa4e",
      "metadata": {
        "id": "b964aa4e",
        "outputId": "15c86365-72c0-4a2a-e462-c6a2853726a6"
      },
      "outputs": [
        {
          "data": {
            "text/plain": [
              "(862, 370)"
            ]
          },
          "execution_count": 21,
          "metadata": {},
          "output_type": "execute_result"
        }
      ],
      "source": [
        "train_size,test_size"
      ]
    },
    {
      "cell_type": "code",
      "execution_count": null,
      "id": "25ca615e",
      "metadata": {
        "id": "25ca615e"
      },
      "outputs": [],
      "source": [
        "#Splitting data between train and test\n",
        "ds_train, ds_test = ds_scaled[0:train_size,:], ds_scaled[train_size:len(ds_scaled),:1]"
      ]
    },
    {
      "cell_type": "code",
      "execution_count": null,
      "id": "95913f28",
      "metadata": {
        "id": "95913f28",
        "outputId": "a750660a-a48f-446f-bf46-15789ceb589a"
      },
      "outputs": [
        {
          "data": {
            "text/plain": [
              "(862, 370)"
            ]
          },
          "execution_count": 23,
          "metadata": {},
          "output_type": "execute_result"
        }
      ],
      "source": [
        "len(ds_train),len(ds_test)"
      ]
    },
    {
      "cell_type": "code",
      "execution_count": null,
      "id": "5dd0b45e",
      "metadata": {
        "id": "5dd0b45e"
      },
      "outputs": [],
      "source": [
        "#creating dataset in time series for LSTM model \n",
        "#X[100,120,140,160,180] : Y[200]\n",
        "def create_ds(dataset,step):\n",
        "    Xtrain, Ytrain = [], []\n",
        "    for i in range(len(dataset)-step-1):\n",
        "        a = dataset[i:(i+step), 0]\n",
        "        Xtrain.append(a)\n",
        "        Ytrain.append(dataset[i + step, 0])\n",
        "    return np.array(Xtrain), np.array(Ytrain)"
      ]
    },
    {
      "cell_type": "code",
      "execution_count": null,
      "id": "d28b7d1d",
      "metadata": {
        "id": "d28b7d1d"
      },
      "outputs": [],
      "source": [
        "#Taking 100 days price as one record for training\n",
        "time_stamp = 100\n",
        "X_train, y_train = create_ds(ds_train,time_stamp)\n",
        "X_test, y_test = create_ds(ds_test,time_stamp)"
      ]
    },
    {
      "cell_type": "code",
      "execution_count": null,
      "id": "03ce9096",
      "metadata": {
        "id": "03ce9096",
        "outputId": "90a3d75d-f56a-4eae-f0aa-c50e65276716"
      },
      "outputs": [
        {
          "data": {
            "text/plain": [
              "((761, 100), (761,))"
            ]
          },
          "execution_count": 31,
          "metadata": {},
          "output_type": "execute_result"
        }
      ],
      "source": [
        "X_train.shape,y_train.shape"
      ]
    },
    {
      "cell_type": "code",
      "execution_count": null,
      "id": "84acdd72",
      "metadata": {
        "id": "84acdd72",
        "outputId": "0504b567-3db7-4cb0-acea-d12c7146ef33"
      },
      "outputs": [
        {
          "data": {
            "text/plain": [
              "((269, 100), (269,))"
            ]
          },
          "execution_count": 32,
          "metadata": {},
          "output_type": "execute_result"
        }
      ],
      "source": [
        "X_test.shape, y_test.shape"
      ]
    },
    {
      "cell_type": "code",
      "execution_count": null,
      "id": "c657d193",
      "metadata": {
        "id": "c657d193"
      },
      "outputs": [],
      "source": [
        "#Reshaping data to fit into LSTM model\n",
        "X_train = X_train.reshape(X_train.shape[0],X_train.shape[1] , 1)\n",
        "X_test = X_test.reshape(X_test.shape[0],X_test.shape[1] , 1)"
      ]
    },
    {
      "cell_type": "code",
      "execution_count": null,
      "id": "82844671",
      "metadata": {
        "id": "82844671"
      },
      "outputs": [],
      "source": [
        "from keras.models import Sequential\n",
        "from keras.layers import Dense, LSTM"
      ]
    },
    {
      "cell_type": "code",
      "execution_count": null,
      "id": "b5250913",
      "metadata": {
        "id": "b5250913",
        "outputId": "94d21d60-327b-4c2b-802b-be604e95fa88"
      },
      "outputs": [
        {
          "name": "stdout",
          "output_type": "stream",
          "text": [
            "Model: \"sequential_1\"\n",
            "_________________________________________________________________\n",
            "Layer (type)                 Output Shape              Param #   \n",
            "=================================================================\n",
            "lstm_1 (LSTM)                (None, 100, 50)           10400     \n",
            "_________________________________________________________________\n",
            "lstm_2 (LSTM)                (None, 100, 50)           20200     \n",
            "_________________________________________________________________\n",
            "lstm_3 (LSTM)                (None, 50)                20200     \n",
            "_________________________________________________________________\n",
            "dense_1 (Dense)              (None, 1)                 51        \n",
            "=================================================================\n",
            "Total params: 50,851\n",
            "Trainable params: 50,851\n",
            "Non-trainable params: 0\n",
            "_________________________________________________________________\n"
          ]
        }
      ],
      "source": [
        "#Creating LSTM model using keras\n",
        "model = Sequential()\n",
        "model.add(LSTM(units=50,return_sequences=True,input_shape=(X_train.shape[1],1)))\n",
        "model.add(LSTM(units=50,return_sequences=True))\n",
        "model.add(LSTM(units=50))\n",
        "model.add(Dense(units=1,activation='linear'))\n",
        "model.summary()"
      ]
    },
    {
      "cell_type": "code",
      "execution_count": null,
      "id": "7e8ff062",
      "metadata": {
        "id": "7e8ff062",
        "outputId": "e76f3b21-b83c-4222-89c3-798b65170045"
      },
      "outputs": [
        {
          "name": "stdout",
          "output_type": "stream",
          "text": [
            "Train on 761 samples, validate on 269 samples\n",
            "Epoch 1/100\n",
            "761/761 [==============================] - 13s 17ms/step - loss: 0.2048 - val_loss: 0.0253\n",
            "Epoch 2/100\n",
            "761/761 [==============================] - 10s 13ms/step - loss: 0.0197 - val_loss: 0.0112\n",
            "Epoch 3/100\n",
            "761/761 [==============================] - 10s 14ms/step - loss: 0.0088 - val_loss: 0.0101\n",
            "Epoch 4/100\n",
            "761/761 [==============================] - 11s 14ms/step - loss: 0.0065 - val_loss: 0.0134\n",
            "Epoch 5/100\n",
            "761/761 [==============================] - 10s 13ms/step - loss: 0.0051 - val_loss: 0.0083\n",
            "Epoch 6/100\n",
            "761/761 [==============================] - 10s 13ms/step - loss: 0.0044 - val_loss: 0.0071\n",
            "Epoch 7/100\n",
            "761/761 [==============================] - 10s 14ms/step - loss: 0.0039 - val_loss: 0.0065\n",
            "Epoch 8/100\n",
            "761/761 [==============================] - 10s 13ms/step - loss: 0.0034 - val_loss: 0.0053\n",
            "Epoch 9/100\n",
            "761/761 [==============================] - 10s 13ms/step - loss: 0.0031 - val_loss: 0.0047\n",
            "Epoch 10/100\n",
            "761/761 [==============================] - 10s 13ms/step - loss: 0.0030 - val_loss: 0.0044\n",
            "Epoch 11/100\n",
            "761/761 [==============================] - 10s 13ms/step - loss: 0.0029 - val_loss: 0.0042\n",
            "Epoch 12/100\n",
            "761/761 [==============================] - 10s 13ms/step - loss: 0.0028 - val_loss: 0.0042\n",
            "Epoch 13/100\n",
            "761/761 [==============================] - 10s 13ms/step - loss: 0.0028 - val_loss: 0.0043\n",
            "Epoch 14/100\n",
            "761/761 [==============================] - 10s 13ms/step - loss: 0.0028 - val_loss: 0.0041\n",
            "Epoch 15/100\n",
            "761/761 [==============================] - 10s 13ms/step - loss: 0.0027 - val_loss: 0.0043\n",
            "Epoch 16/100\n",
            "761/761 [==============================] - 10s 13ms/step - loss: 0.0028 - val_loss: 0.0042\n",
            "Epoch 17/100\n",
            "761/761 [==============================] - 10s 13ms/step - loss: 0.0026 - val_loss: 0.0041\n",
            "Epoch 18/100\n",
            "761/761 [==============================] - 10s 13ms/step - loss: 0.0027 - val_loss: 0.0041\n",
            "Epoch 19/100\n",
            "761/761 [==============================] - 10s 13ms/step - loss: 0.0027 - val_loss: 0.0039\n",
            "Epoch 20/100\n",
            "761/761 [==============================] - 10s 13ms/step - loss: 0.0026 - val_loss: 0.0038\n",
            "Epoch 21/100\n",
            "761/761 [==============================] - 10s 13ms/step - loss: 0.0026 - val_loss: 0.0038\n",
            "Epoch 22/100\n",
            "761/761 [==============================] - 10s 13ms/step - loss: 0.0025 - val_loss: 0.0037\n",
            "Epoch 23/100\n",
            "761/761 [==============================] - 10s 13ms/step - loss: 0.0024 - val_loss: 0.0037\n",
            "Epoch 24/100\n",
            "761/761 [==============================] - 10s 13ms/step - loss: 0.0024 - val_loss: 0.0036\n",
            "Epoch 25/100\n",
            "761/761 [==============================] - 10s 13ms/step - loss: 0.0024 - val_loss: 0.0037\n",
            "Epoch 26/100\n",
            "761/761 [==============================] - 10s 13ms/step - loss: 0.0023 - val_loss: 0.0036\n",
            "Epoch 27/100\n",
            "761/761 [==============================] - 10s 13ms/step - loss: 0.0024 - val_loss: 0.0035\n",
            "Epoch 28/100\n",
            "761/761 [==============================] - 10s 13ms/step - loss: 0.0024 - val_loss: 0.0036\n",
            "Epoch 29/100\n",
            "761/761 [==============================] - 10s 13ms/step - loss: 0.0023 - val_loss: 0.0035\n",
            "Epoch 30/100\n",
            "761/761 [==============================] - 10s 13ms/step - loss: 0.0022 - val_loss: 0.0034\n",
            "Epoch 31/100\n",
            "761/761 [==============================] - 10s 13ms/step - loss: 0.0022 - val_loss: 0.0034\n",
            "Epoch 32/100\n",
            "761/761 [==============================] - 10s 13ms/step - loss: 0.0021 - val_loss: 0.0033\n",
            "Epoch 33/100\n",
            "761/761 [==============================] - 10s 13ms/step - loss: 0.0021 - val_loss: 0.0033\n",
            "Epoch 34/100\n",
            "761/761 [==============================] - 10s 13ms/step - loss: 0.0020 - val_loss: 0.0033\n",
            "Epoch 35/100\n",
            "761/761 [==============================] - 10s 13ms/step - loss: 0.0021 - val_loss: 0.0032\n",
            "Epoch 36/100\n",
            "761/761 [==============================] - 10s 13ms/step - loss: 0.0022 - val_loss: 0.0034\n",
            "Epoch 37/100\n",
            "761/761 [==============================] - 10s 13ms/step - loss: 0.0023 - val_loss: 0.0032\n",
            "Epoch 38/100\n",
            "761/761 [==============================] - 10s 13ms/step - loss: 0.0020 - val_loss: 0.0032\n",
            "Epoch 39/100\n",
            "761/761 [==============================] - 10s 13ms/step - loss: 0.0020 - val_loss: 0.0031\n",
            "Epoch 40/100\n",
            "761/761 [==============================] - 10s 13ms/step - loss: 0.0020 - val_loss: 0.0031\n",
            "Epoch 41/100\n",
            "761/761 [==============================] - 10s 13ms/step - loss: 0.0019 - val_loss: 0.0030\n",
            "Epoch 42/100\n",
            "761/761 [==============================] - 10s 13ms/step - loss: 0.0019 - val_loss: 0.0030\n",
            "Epoch 43/100\n",
            "761/761 [==============================] - 10s 13ms/step - loss: 0.0019 - val_loss: 0.0030\n",
            "Epoch 44/100\n",
            "761/761 [==============================] - 10s 13ms/step - loss: 0.0022 - val_loss: 0.0031\n",
            "Epoch 45/100\n",
            "761/761 [==============================] - 10s 13ms/step - loss: 0.0023 - val_loss: 0.0030\n",
            "Epoch 46/100\n",
            "761/761 [==============================] - 10s 13ms/step - loss: 0.0021 - val_loss: 0.0030\n",
            "Epoch 47/100\n",
            "761/761 [==============================] - 10s 13ms/step - loss: 0.0021 - val_loss: 0.0030\n",
            "Epoch 48/100\n",
            "761/761 [==============================] - 10s 13ms/step - loss: 0.0019 - val_loss: 0.0029\n",
            "Epoch 49/100\n",
            "761/761 [==============================] - 10s 13ms/step - loss: 0.0019 - val_loss: 0.0028\n",
            "Epoch 50/100\n",
            "761/761 [==============================] - 10s 13ms/step - loss: 0.0018 - val_loss: 0.0028\n",
            "Epoch 51/100\n",
            "761/761 [==============================] - 10s 13ms/step - loss: 0.0018 - val_loss: 0.0028\n",
            "Epoch 52/100\n",
            "761/761 [==============================] - 10s 13ms/step - loss: 0.0018 - val_loss: 0.0028\n",
            "Epoch 53/100\n",
            "761/761 [==============================] - 10s 13ms/step - loss: 0.0018 - val_loss: 0.0027\n",
            "Epoch 54/100\n",
            "761/761 [==============================] - 10s 13ms/step - loss: 0.0018 - val_loss: 0.0027\n",
            "Epoch 55/100\n",
            "761/761 [==============================] - 10s 13ms/step - loss: 0.0017 - val_loss: 0.0027\n",
            "Epoch 56/100\n",
            "761/761 [==============================] - 10s 13ms/step - loss: 0.0019 - val_loss: 0.0027\n",
            "Epoch 57/100\n",
            "761/761 [==============================] - 10s 13ms/step - loss: 0.0018 - val_loss: 0.0026\n",
            "Epoch 58/100\n",
            "761/761 [==============================] - 10s 13ms/step - loss: 0.0017 - val_loss: 0.0027\n",
            "Epoch 59/100\n",
            "761/761 [==============================] - 10s 13ms/step - loss: 0.0017 - val_loss: 0.0026\n",
            "Epoch 60/100\n",
            "761/761 [==============================] - 10s 13ms/step - loss: 0.0019 - val_loss: 0.0027\n",
            "Epoch 61/100\n",
            "761/761 [==============================] - 10s 13ms/step - loss: 0.0018 - val_loss: 0.0028\n",
            "Epoch 62/100\n",
            "761/761 [==============================] - 10s 13ms/step - loss: 0.0019 - val_loss: 0.0027\n",
            "Epoch 63/100\n",
            "761/761 [==============================] - 10s 13ms/step - loss: 0.0018 - val_loss: 0.0025\n",
            "Epoch 64/100\n",
            "761/761 [==============================] - 10s 13ms/step - loss: 0.0016 - val_loss: 0.0024\n",
            "Epoch 65/100\n",
            "761/761 [==============================] - 10s 13ms/step - loss: 0.0015 - val_loss: 0.0024\n",
            "Epoch 66/100\n",
            "761/761 [==============================] - 10s 13ms/step - loss: 0.0016 - val_loss: 0.0024\n",
            "Epoch 67/100\n",
            "761/761 [==============================] - 10s 13ms/step - loss: 0.0016 - val_loss: 0.0023\n",
            "Epoch 68/100\n",
            "761/761 [==============================] - 10s 13ms/step - loss: 0.0015 - val_loss: 0.0023\n",
            "Epoch 69/100\n",
            "761/761 [==============================] - 10s 13ms/step - loss: 0.0015 - val_loss: 0.0023\n",
            "Epoch 70/100\n",
            "761/761 [==============================] - 10s 13ms/step - loss: 0.0015 - val_loss: 0.0022\n",
            "Epoch 71/100\n",
            "761/761 [==============================] - 10s 13ms/step - loss: 0.0015 - val_loss: 0.0022\n",
            "Epoch 72/100\n",
            "761/761 [==============================] - 10s 13ms/step - loss: 0.0015 - val_loss: 0.0022\n",
            "Epoch 73/100\n",
            "761/761 [==============================] - 10s 13ms/step - loss: 0.0017 - val_loss: 0.0023\n",
            "Epoch 74/100\n",
            "761/761 [==============================] - 10s 13ms/step - loss: 0.0015 - val_loss: 0.0021\n",
            "Epoch 75/100\n",
            "761/761 [==============================] - 10s 13ms/step - loss: 0.0017 - val_loss: 0.0021\n",
            "Epoch 76/100\n",
            "761/761 [==============================] - 10s 13ms/step - loss: 0.0014 - val_loss: 0.0021\n",
            "Epoch 77/100\n",
            "761/761 [==============================] - 10s 13ms/step - loss: 0.0014 - val_loss: 0.0020\n",
            "Epoch 78/100\n",
            "761/761 [==============================] - 10s 13ms/step - loss: 0.0014 - val_loss: 0.0020\n",
            "Epoch 79/100\n",
            "761/761 [==============================] - 10s 13ms/step - loss: 0.0014 - val_loss: 0.0020\n",
            "Epoch 80/100\n",
            "761/761 [==============================] - 10s 13ms/step - loss: 0.0013 - val_loss: 0.0019\n",
            "Epoch 81/100\n",
            "761/761 [==============================] - 10s 13ms/step - loss: 0.0015 - val_loss: 0.0019\n",
            "Epoch 82/100\n",
            "761/761 [==============================] - 10s 13ms/step - loss: 0.0014 - val_loss: 0.0019\n",
            "Epoch 83/100\n",
            "761/761 [==============================] - 10s 13ms/step - loss: 0.0014 - val_loss: 0.0019\n",
            "Epoch 84/100\n",
            "761/761 [==============================] - 10s 13ms/step - loss: 0.0014 - val_loss: 0.0018\n",
            "Epoch 85/100\n",
            "761/761 [==============================] - 10s 13ms/step - loss: 0.0012 - val_loss: 0.0018\n",
            "Epoch 86/100\n",
            "761/761 [==============================] - 10s 13ms/step - loss: 0.0012 - val_loss: 0.0018\n",
            "Epoch 87/100\n",
            "761/761 [==============================] - 10s 13ms/step - loss: 0.0013 - val_loss: 0.0018\n",
            "Epoch 88/100\n",
            "761/761 [==============================] - 10s 13ms/step - loss: 0.0013 - val_loss: 0.0017\n",
            "Epoch 89/100\n",
            "761/761 [==============================] - 10s 13ms/step - loss: 0.0013 - val_loss: 0.0017\n",
            "Epoch 90/100\n",
            "761/761 [==============================] - 10s 13ms/step - loss: 0.0013 - val_loss: 0.0017\n",
            "Epoch 91/100\n",
            "761/761 [==============================] - 10s 13ms/step - loss: 0.0014 - val_loss: 0.0017\n",
            "Epoch 92/100\n",
            "761/761 [==============================] - 10s 13ms/step - loss: 0.0013 - val_loss: 0.0017\n",
            "Epoch 93/100\n",
            "761/761 [==============================] - 10s 13ms/step - loss: 0.0012 - val_loss: 0.0016\n",
            "Epoch 94/100\n",
            "761/761 [==============================] - 10s 13ms/step - loss: 0.0011 - val_loss: 0.0016\n",
            "Epoch 95/100\n",
            "761/761 [==============================] - 10s 13ms/step - loss: 0.0013 - val_loss: 0.0016\n",
            "Epoch 96/100\n",
            "761/761 [==============================] - 10s 13ms/step - loss: 0.0012 - val_loss: 0.0016\n",
            "Epoch 97/100\n",
            "761/761 [==============================] - 10s 13ms/step - loss: 0.0011 - val_loss: 0.0016\n",
            "Epoch 98/100\n",
            "761/761 [==============================] - 10s 13ms/step - loss: 0.0012 - val_loss: 0.0017\n",
            "Epoch 99/100\n",
            "761/761 [==============================] - 10s 13ms/step - loss: 0.0012 - val_loss: 0.0017\n",
            "Epoch 100/100\n",
            "761/761 [==============================] - 10s 13ms/step - loss: 0.0012 - val_loss: 0.0016\n"
          ]
        },
        {
          "data": {
            "text/plain": [
              "<keras.callbacks.callbacks.History at 0x7fcbc4faa690>"
            ]
          },
          "execution_count": 37,
          "metadata": {},
          "output_type": "execute_result"
        }
      ],
      "source": [
        "#Training model with adam optimizer and mean squared error loss function\n",
        "model.compile(loss='mean_squared_error',optimizer='adam')\n",
        "model.fit(X_train,y_train,validation_data=(X_test,y_test),epochs=100,batch_size=64)"
      ]
    },
    {
      "cell_type": "code",
      "execution_count": null,
      "id": "18b1ba6a",
      "metadata": {
        "id": "18b1ba6a",
        "outputId": "01f39fb3-2ed8-4f4e-bbe2-4d90ad3b9734"
      },
      "outputs": [
        {
          "data": {
            "text/plain": [
              "[<matplotlib.lines.Line2D at 0x7fcb509cf790>]"
            ]
          },
          "execution_count": 38,
          "metadata": {},
          "output_type": "execute_result"
        },
        {
          "data": {
            "image/png": "[encoded data removed]",
            "text/plain": [
              "<Figure size 432x288 with 1 Axes>"
            ]
          },
          "metadata": {
            "needs_background": "light"
          },
          "output_type": "display_data"
        }
      ],
      "source": [
        "#PLotting loss, it shows that loss has decreased significantly and model trained well\n",
        "loss = model.history.history['loss']\n",
        "plt.plot(loss)"
      ]
    },
    {
      "cell_type": "code",
      "execution_count": null,
      "id": "3e7f2fc8",
      "metadata": {
        "id": "3e7f2fc8"
      },
      "outputs": [],
      "source": [
        "#Predicitng on train and test data\n",
        "train_predict = model.predict(X_train)\n",
        "test_predict = model.predict(X_test)"
      ]
    },
    {
      "cell_type": "code",
      "execution_count": null,
      "id": "c2d6c2d5",
      "metadata": {
        "id": "c2d6c2d5"
      },
      "outputs": [],
      "source": [
        "#Inverse transform to get actual value\n",
        "train_predict = normalizer.inverse_transform(train_predict)\n",
        "test_predict = normalizer.inverse_transform(test_predict)"
      ]
    },
    {
      "cell_type": "code",
      "execution_count": null,
      "id": "9d0543ad",
      "metadata": {
        "id": "9d0543ad",
        "outputId": "02786049-76e7-49dd-833c-056e87c14d67"
      },
      "outputs": [
        {
          "data": {
            "text/plain": [
              "[<matplotlib.lines.Line2D at 0x7fcbc5653b50>]"
            ]
          },
          "execution_count": 44,
          "metadata": {},
          "output_type": "execute_result"
        },
        {
          "data": {
            "image/png": "[encoded data removed]",
            "text/plain": [
              "<Figure size 432x288 with 1 Axes>"
            ]
          },
          "metadata": {
            "needs_background": "light"
          },
          "output_type": "display_data"
        }
      ],
      "source": [
        "#Comparing using visuals\n",
        "plt.plot(normalizer.inverse_transform(ds_scaled))\n",
        "plt.plot(train_predict)\n",
        "plt.plot(test_predict)"
      ]
    },
    {
      "cell_type": "code",
      "execution_count": null,
      "id": "55300bae",
      "metadata": {
        "id": "55300bae",
        "outputId": "92b4c090-78ec-4957-d00d-a67b4de5c6dc"
      },
      "outputs": [
        {
          "data": {
            "text/plain": [
              "numpy.ndarray"
            ]
          },
          "execution_count": 45,
          "metadata": {},
          "output_type": "execute_result"
        }
      ],
      "source": [
        "type(train_predict)"
      ]
    },
    {
      "cell_type": "code",
      "execution_count": null,
      "id": "bf6d5613",
      "metadata": {
        "id": "bf6d5613"
      },
      "outputs": [],
      "source": [
        "test = np.vstack((train_predict,test_predict))"
      ]
    },
    {
      "cell_type": "code",
      "execution_count": null,
      "id": "41b272ff",
      "metadata": {
        "id": "41b272ff",
        "outputId": "4a068795-aec8-47b0-bf20-980c5b624306"
      },
      "outputs": [
        {
          "data": {
            "text/plain": [
              "[<matplotlib.lines.Line2D at 0x7fcbc5572150>]"
            ]
          },
          "execution_count": 47,
          "metadata": {},
          "output_type": "execute_result"
        },
        {
          "data": {
            "image/png": "[encoded data removed]",
            "text/plain": [
              "<Figure size 432x288 with 1 Axes>"
            ]
          },
          "metadata": {
            "needs_background": "light"
          },
          "output_type": "display_data"
        }
      ],
      "source": [
        "#Combining the predited data to create uniform data visualization\n",
        "plt.plot(normalizer.inverse_transform(ds_scaled))\n",
        "plt.plot(test)"
      ]
    },
    {
      "cell_type": "code",
      "execution_count": null,
      "id": "16af9283",
      "metadata": {
        "id": "16af9283",
        "outputId": "a326e5b4-2872-4d0b-9700-45235b1db5fa"
      },
      "outputs": [
        {
          "data": {
            "text/plain": [
              "370"
            ]
          },
          "execution_count": 49,
          "metadata": {},
          "output_type": "execute_result"
        }
      ],
      "source": [
        "len(ds_test)"
      ]
    },
    {
      "cell_type": "code",
      "execution_count": null,
      "id": "c13df7b8",
      "metadata": {
        "id": "c13df7b8"
      },
      "outputs": [],
      "source": [
        "#Getting the last 100 days records\n",
        "fut_inp = ds_test[270:]"
      ]
    },
    {
      "cell_type": "code",
      "execution_count": null,
      "id": "52b30579",
      "metadata": {
        "id": "52b30579"
      },
      "outputs": [],
      "source": [
        "fut_inp = fut_inp.reshape(1,-1)"
      ]
    },
    {
      "cell_type": "code",
      "execution_count": null,
      "id": "ac2686a6",
      "metadata": {
        "id": "ac2686a6"
      },
      "outputs": [],
      "source": [
        "tmp_inp = list(fut_inp)"
      ]
    },
    {
      "cell_type": "code",
      "execution_count": null,
      "id": "dad5024f",
      "metadata": {
        "id": "dad5024f",
        "outputId": "3e459666-8a96-42f9-e704-ef0650ef16ef"
      },
      "outputs": [
        {
          "data": {
            "text/plain": [
              "(1, 100)"
            ]
          },
          "execution_count": 62,
          "metadata": {},
          "output_type": "execute_result"
        }
      ],
      "source": [
        "fut_inp.shape"
      ]
    },
    {
      "cell_type": "code",
      "execution_count": null,
      "id": "98042a30",
      "metadata": {
        "id": "98042a30"
      },
      "outputs": [],
      "source": [
        "#Creating list of the last 100 data\n",
        "tmp_inp = tmp_inp[0].tolist()"
      ]
    },
    {
      "cell_type": "code",
      "execution_count": null,
      "id": "44799d02",
      "metadata": {
        "id": "44799d02",
        "outputId": "f5b4227a-5768-4a4d-d6ee-966bdb036132"
      },
      "outputs": [
        {
          "name": "stdout",
          "output_type": "stream",
          "text": [
            "[[0.6947309970855713], [0.6953206062316895], [0.7002814412117004], [0.7073392271995544], [0.715061366558075], [0.7226243615150452], [0.729603111743927], [0.7358121275901794], [0.7412080764770508], [0.7458339333534241], [0.7497867345809937], [0.7531965374946594], [0.7562095522880554], [0.758974552154541], [0.761631965637207], [0.7643031477928162], [0.7670859694480896], [0.7700509428977966], [0.7732412219047546], [0.776674747467041], [0.780346691608429], [0.7842351198196411], [0.7883058786392212], [0.7925163507461548], [0.7968212962150574], [0.8011761903762817], [0.8055402040481567], [0.8098787069320679], [0.8141643404960632], [0.8183774948120117]]\n"
          ]
        }
      ],
      "source": [
        "#Predicting next 30 days price suing the current data\n",
        "#It will predict in sliding window manner (algorithm) with stride 1\n",
        "lst_output=[]\n",
        "n_steps=100\n",
        "i=0\n",
        "while(i<30):\n",
        "    \n",
        "    if(len(tmp_inp)>100):\n",
        "        fut_inp = np.array(tmp_inp[1:])\n",
        "        fut_inp=fut_inp.reshape(1,-1)\n",
        "        fut_inp = fut_inp.reshape((1, n_steps, 1))\n",
        "        yhat = model.predict(fut_inp, verbose=0)\n",
        "        tmp_inp.extend(yhat[0].tolist())\n",
        "        tmp_inp = tmp_inp[1:]\n",
        "        lst_output.extend(yhat.tolist())\n",
        "        i=i+1\n",
        "    else:\n",
        "        fut_inp = fut_inp.reshape((1, n_steps,1))\n",
        "        yhat = model.predict(fut_inp, verbose=0)\n",
        "        tmp_inp.extend(yhat[0].tolist())\n",
        "        lst_output.extend(yhat.tolist())\n",
        "        i=i+1\n",
        "    \n",
        "\n",
        "print(lst_output)"
      ]
    },
    {
      "cell_type": "code",
      "execution_count": null,
      "id": "d49a83e5",
      "metadata": {
        "id": "d49a83e5",
        "outputId": "69e3ea42-ee73-4d8d-99ae-a550afb728a1"
      },
      "outputs": [
        {
          "data": {
            "text/plain": [
              "1232"
            ]
          },
          "execution_count": 72,
          "metadata": {},
          "output_type": "execute_result"
        }
      ],
      "source": [
        "len(ds_scaled)"
      ]
    },
    {
      "cell_type": "code",
      "execution_count": null,
      "id": "49450ea7",
      "metadata": {
        "id": "49450ea7"
      },
      "outputs": [],
      "source": [
        "#Creating a dummy plane to plot graph one after another\n",
        "plot_new=np.arange(1,101)\n",
        "plot_pred=np.arange(101,131)"
      ]
    },
    {
      "cell_type": "code",
      "execution_count": null,
      "id": "29f84e31",
      "metadata": {
        "id": "29f84e31",
        "outputId": "418a2c02-cb4a-40d9-d8f8-bd525d1dd047"
      },
      "outputs": [
        {
          "data": {
            "text/plain": [
              "[<matplotlib.lines.Line2D at 0x7fcb519c4350>]"
            ]
          },
          "execution_count": 82,
          "metadata": {},
          "output_type": "execute_result"
        },
        {
          "data": {
            "image/png": "[encoded data removed]",
            "text/plain": [
              "<Figure size 432x288 with 1 Axes>"
            ]
          },
          "metadata": {
            "needs_background": "light"
          },
          "output_type": "display_data"
        }
      ],
      "source": [
        "plt.plot(plot_new, normalizer.inverse_transform(ds_scaled[1132:]))\n",
        "plt.plot(plot_pred, normalizer.inverse_transform(lst_output))"
      ]
    },
    {
      "cell_type": "code",
      "execution_count": null,
      "id": "e41c9362",
      "metadata": {
        "id": "e41c9362"
      },
      "outputs": [],
      "source": [
        "ds_new = ds_scaled.tolist()"
      ]
    },
    {
      "cell_type": "code",
      "execution_count": null,
      "id": "d6c8d3c1",
      "metadata": {
        "id": "d6c8d3c1",
        "outputId": "453c451e-5ad8-452f-dbb5-395b4c5bf754"
      },
      "outputs": [
        {
          "data": {
            "text/plain": [
              "1232"
            ]
          },
          "execution_count": 84,
          "metadata": {},
          "output_type": "execute_result"
        }
      ],
      "source": [
        "len(ds_new)"
      ]
    },
    {
      "cell_type": "code",
      "execution_count": null,
      "id": "24e99607",
      "metadata": {
        "id": "24e99607",
        "outputId": "82273bd4-28fa-4ffd-92d4-887b88c6345f"
      },
      "outputs": [
        {
          "data": {
            "text/plain": [
              "[<matplotlib.lines.Line2D at 0x7fcbc59a0490>]"
            ]
          },
          "execution_count": 85,
          "metadata": {},
          "output_type": "execute_result"
        },
        {
          "data": {
            "image/png": "[encoded data removed]",
            "text/plain": [
              "<Figure size 432x288 with 1 Axes>"
            ]
          },
          "metadata": {
            "needs_background": "light"
          },
          "output_type": "display_data"
        }
      ],
      "source": [
        "#Entends helps us to fill the missing value with approx value\n",
        "ds_new.extend(lst_output)\n",
        "plt.plot(ds_new[1200:])"
      ]
    },
    {
      "cell_type": "code",
      "execution_count": null,
      "id": "7f04f058",
      "metadata": {
        "id": "7f04f058"
      },
      "outputs": [],
      "source": [
        "#Creating final data for plotting\n",
        "final_graph = normalizer.inverse_transform(ds_new).tolist()"
      ]
    },
    {
      "cell_type": "code",
      "execution_count": null,
      "id": "2dfdef30",
      "metadata": {
        "id": "2dfdef30",
        "outputId": "a598dcde-c27d-4c14-c9c9-efe8ec14fa90"
      },
      "outputs": [
        {
          "data": {
            "text/plain": [
              "<matplotlib.legend.Legend at 0x7fcba1f08fd0>"
            ]
          },
          "execution_count": 112,
          "metadata": {},
          "output_type": "execute_result"
        },
        {
          "data": {
            "image/png": "[encoded data removed]",
            "text/plain": [
              "<Figure size 432x288 with 1 Axes>"
            ]
          },
          "metadata": {
            "needs_background": "light"
          },
          "output_type": "display_data"
        }
      ],
      "source": [
        "#Plotting final results with predicted value after 30 Days\n",
        "plt.plot(final_graph,)\n",
        "plt.ylabel(\"Price\")\n",
        "plt.xlabel(\"Time\")\n",
        "plt.title(\"{0} prediction of next month open\".format(stock_symbol))\n",
        "plt.axhline(y=final_graph[len(final_graph)-1], color = 'red', linestyle = ':', label = 'NEXT 30D: {0}'.format(round(float(*final_graph[len(final_graph)-1]),2)))\n",
        "plt.legend()\n",
        "\n"
      ]
    }
  ],
  "metadata": {
    "kernelspec": {
      "display_name": "Python 3",
      "language": "python",
      "name": "python3"
    },
    "language_info": {
      "codemirror_mode": {
        "name": "ipython",
        "version": 3
      },
      "file_extension": ".py",
      "mimetype": "text/x-python",
      "name": "python",
      "nbconvert_exporter": "python",
      "pygments_lexer": "ipython3",
      "version": "3.7.10"
    },
    "colab": {
      "provenance": [],
      "include_colab_link": true
    }
  },
  "nbformat": 4,
  "nbformat_minor": 5
}